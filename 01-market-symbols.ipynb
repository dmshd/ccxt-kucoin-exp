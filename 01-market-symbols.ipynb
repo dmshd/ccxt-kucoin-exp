{
 "cells": [
  {
   "cell_type": "code",
   "execution_count": 3,
   "id": "traditional-spirituality",
   "metadata": {},
   "outputs": [],
   "source": [
    "import ccxt\n",
    "import json"
   ]
  },
  {
   "cell_type": "code",
   "execution_count": 4,
   "id": "genetic-mention",
   "metadata": {},
   "outputs": [],
   "source": [
    "exchange = ccxt.kucoin(\n",
    "    {\n",
    "        \"enableRateLimit\": True,\n",
    "    }\n",
    ")"
   ]
  },
  {
   "cell_type": "code",
   "execution_count": 5,
   "id": "sublime-reform",
   "metadata": {},
   "outputs": [],
   "source": [
    "markets = exchange.load_markets()\n",
    "print(exchange.id, exchange.symbols)\n"
   ]
  },
  {
   "cell_type": "code",
   "execution_count": null,
   "id": "inclusive-viking",
   "metadata": {},
   "outputs": [],
   "source": []
  }
 ],
 "metadata": {
  "kernelspec": {
   "display_name": "Python 3",
   "language": "python",
   "name": "python3"
  },
  "language_info": {
   "codemirror_mode": {
    "name": "ipython",
    "version": 3
   },
   "file_extension": ".py",
   "mimetype": "text/x-python",
   "name": "python",
   "nbconvert_exporter": "python",
   "pygments_lexer": "ipython3",
   "version": "3.8.0"
  }
 },
 "nbformat": 4,
 "nbformat_minor": 5
}
